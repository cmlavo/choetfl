{
 "cells": [
  {
   "cell_type": "code",
   "execution_count": 17,
   "metadata": {},
   "outputs": [
    {
     "name": "stdout",
     "output_type": "stream",
     "text": [
      "Testing library versions:\n",
      "Python - 3.8.20\n",
      "NumPy - 1.19.5\n",
      "Pandas - 1.4.4\n",
      "PyTFA - 0.9.4\n",
      "ETFL - 0.0.2\n",
      "GurobiPy - 11.0.3 (This will vary depending on the installed solver)\n",
      "\n"
     ]
    }
   ],
   "source": [
    "import platform\n",
    "import numpy\n",
    "import pandas\n",
    "import pytfa\n",
    "import etfl\n",
    "import gurobipy\n",
    "\n",
    "import importlib.metadata\n",
    "\n",
    "print(\"Testing library versions:\\n\" \\\n",
    "f\"Python - {platform.python_version()}\\n\" \\\n",
    "f\"NumPy - {numpy.__version__}\\n\" \\\n",
    "f\"Pandas - {pandas.__version__}\\n\" \\\n",
    "f\"PyTFA - {importlib.metadata.version('pytfa')}\\n\" \\\n",
    "f\"ETFL - {importlib.metadata.version('etfl')}\\n\" \\\n",
    "f\"GurobiPy - {importlib.metadata.version('gurobipy')} (This will vary depending on the installed solver)\\n\" \\\n",
    ")"
   ]
  }
 ],
 "metadata": {
  "kernelspec": {
   "display_name": "choetfl_env",
   "language": "python",
   "name": "python3"
  },
  "language_info": {
   "codemirror_mode": {
    "name": "ipython",
    "version": 3
   },
   "file_extension": ".py",
   "mimetype": "text/x-python",
   "name": "python",
   "nbconvert_exporter": "python",
   "pygments_lexer": "ipython3",
   "version": "3.8.20"
  }
 },
 "nbformat": 4,
 "nbformat_minor": 2
}
